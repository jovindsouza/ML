{
  "nbformat": 4,
  "nbformat_minor": 0,
  "metadata": {
    "colab": {
      "name": "Loan_Prediction.ipynb",
      "provenance": [],
      "collapsed_sections": [],
      "toc_visible": true,
      "authorship_tag": "ABX9TyMWcrMvpow7/hrK6mmScR6/"
    },
    "kernelspec": {
      "name": "python3",
      "display_name": "Python 3"
    }
  },
  "cells": [
    {
      "cell_type": "markdown",
      "metadata": {
        "id": "XAPOPM8lhn6g",
        "colab_type": "text"
      },
      "source": [
        "**Let's start by loading the packages**"
      ]
    },
    {
      "cell_type": "code",
      "metadata": {
        "id": "KARISRtrf7zT",
        "colab_type": "code",
        "colab": {
          "base_uri": "https://localhost:8080/",
          "height": 70
        },
        "outputId": "18261992-a716-48f7-ebf5-085cd6430f7a"
      },
      "source": [
        "import pandas as pd\n",
        "import numpy as np\n",
        "import matplotlib.pyplot as plt\n",
        "import seaborn as sns"
      ],
      "execution_count": 1,
      "outputs": [
        {
          "output_type": "stream",
          "text": [
            "/usr/local/lib/python3.6/dist-packages/statsmodels/tools/_testing.py:19: FutureWarning: pandas.util.testing is deprecated. Use the functions in the public API at pandas.testing instead.\n",
            "  import pandas.util.testing as tm\n"
          ],
          "name": "stderr"
        }
      ]
    },
    {
      "cell_type": "code",
      "metadata": {
        "id": "cDcDeDQTAUZk",
        "colab_type": "code",
        "colab": {
          "base_uri": "https://localhost:8080/",
          "height": 202
        },
        "outputId": "8bfd5699-5020-4b49-b92f-6164fad3522b"
      },
      "source": [
        "!wget -O loan_train.csv https://s3-api.us-geo.objectstorage.softlayer.net/cf-courses-data/CognitiveClass/ML0101ENv3/labs/loan_train.csv"
      ],
      "execution_count": 2,
      "outputs": [
        {
          "output_type": "stream",
          "text": [
            "--2020-07-09 10:41:35--  https://s3-api.us-geo.objectstorage.softlayer.net/cf-courses-data/CognitiveClass/ML0101ENv3/labs/loan_train.csv\n",
            "Resolving s3-api.us-geo.objectstorage.softlayer.net (s3-api.us-geo.objectstorage.softlayer.net)... 67.228.254.196\n",
            "Connecting to s3-api.us-geo.objectstorage.softlayer.net (s3-api.us-geo.objectstorage.softlayer.net)|67.228.254.196|:443... connected.\n",
            "HTTP request sent, awaiting response... 200 OK\n",
            "Length: 23101 (23K) [text/csv]\n",
            "Saving to: ‘loan_train.csv’\n",
            "\n",
            "\rloan_train.csv        0%[                    ]       0  --.-KB/s               \rloan_train.csv      100%[===================>]  22.56K  --.-KB/s    in 0.01s   \n",
            "\n",
            "2020-07-09 10:41:35 (1.82 MB/s) - ‘loan_train.csv’ saved [23101/23101]\n",
            "\n"
          ],
          "name": "stdout"
        }
      ]
    },
    {
      "cell_type": "code",
      "metadata": {
        "id": "RWf4JcJegP2W",
        "colab_type": "code",
        "colab": {
          "base_uri": "https://localhost:8080/",
          "height": 195
        },
        "outputId": "6cf9ddc1-61ac-4f2c-b678-b27da030cdc1"
      },
      "source": [
        "data_train = pd.read_csv(\"loan_train.csv\")\n",
        "data_train.head()"
      ],
      "execution_count": 3,
      "outputs": [
        {
          "output_type": "execute_result",
          "data": {
            "text/html": [
              "<div>\n",
              "<style scoped>\n",
              "    .dataframe tbody tr th:only-of-type {\n",
              "        vertical-align: middle;\n",
              "    }\n",
              "\n",
              "    .dataframe tbody tr th {\n",
              "        vertical-align: top;\n",
              "    }\n",
              "\n",
              "    .dataframe thead th {\n",
              "        text-align: right;\n",
              "    }\n",
              "</style>\n",
              "<table border=\"1\" class=\"dataframe\">\n",
              "  <thead>\n",
              "    <tr style=\"text-align: right;\">\n",
              "      <th></th>\n",
              "      <th>Unnamed: 0</th>\n",
              "      <th>Unnamed: 0.1</th>\n",
              "      <th>loan_status</th>\n",
              "      <th>Principal</th>\n",
              "      <th>terms</th>\n",
              "      <th>effective_date</th>\n",
              "      <th>due_date</th>\n",
              "      <th>age</th>\n",
              "      <th>education</th>\n",
              "      <th>Gender</th>\n",
              "    </tr>\n",
              "  </thead>\n",
              "  <tbody>\n",
              "    <tr>\n",
              "      <th>0</th>\n",
              "      <td>0</td>\n",
              "      <td>0</td>\n",
              "      <td>PAIDOFF</td>\n",
              "      <td>1000</td>\n",
              "      <td>30</td>\n",
              "      <td>9/8/2016</td>\n",
              "      <td>10/7/2016</td>\n",
              "      <td>45</td>\n",
              "      <td>High School or Below</td>\n",
              "      <td>male</td>\n",
              "    </tr>\n",
              "    <tr>\n",
              "      <th>1</th>\n",
              "      <td>2</td>\n",
              "      <td>2</td>\n",
              "      <td>PAIDOFF</td>\n",
              "      <td>1000</td>\n",
              "      <td>30</td>\n",
              "      <td>9/8/2016</td>\n",
              "      <td>10/7/2016</td>\n",
              "      <td>33</td>\n",
              "      <td>Bechalor</td>\n",
              "      <td>female</td>\n",
              "    </tr>\n",
              "    <tr>\n",
              "      <th>2</th>\n",
              "      <td>3</td>\n",
              "      <td>3</td>\n",
              "      <td>PAIDOFF</td>\n",
              "      <td>1000</td>\n",
              "      <td>15</td>\n",
              "      <td>9/8/2016</td>\n",
              "      <td>9/22/2016</td>\n",
              "      <td>27</td>\n",
              "      <td>college</td>\n",
              "      <td>male</td>\n",
              "    </tr>\n",
              "    <tr>\n",
              "      <th>3</th>\n",
              "      <td>4</td>\n",
              "      <td>4</td>\n",
              "      <td>PAIDOFF</td>\n",
              "      <td>1000</td>\n",
              "      <td>30</td>\n",
              "      <td>9/9/2016</td>\n",
              "      <td>10/8/2016</td>\n",
              "      <td>28</td>\n",
              "      <td>college</td>\n",
              "      <td>female</td>\n",
              "    </tr>\n",
              "    <tr>\n",
              "      <th>4</th>\n",
              "      <td>6</td>\n",
              "      <td>6</td>\n",
              "      <td>PAIDOFF</td>\n",
              "      <td>1000</td>\n",
              "      <td>30</td>\n",
              "      <td>9/9/2016</td>\n",
              "      <td>10/8/2016</td>\n",
              "      <td>29</td>\n",
              "      <td>college</td>\n",
              "      <td>male</td>\n",
              "    </tr>\n",
              "  </tbody>\n",
              "</table>\n",
              "</div>"
            ],
            "text/plain": [
              "   Unnamed: 0  Unnamed: 0.1 loan_status  ...  age             education  Gender\n",
              "0           0             0     PAIDOFF  ...   45  High School or Below    male\n",
              "1           2             2     PAIDOFF  ...   33              Bechalor  female\n",
              "2           3             3     PAIDOFF  ...   27               college    male\n",
              "3           4             4     PAIDOFF  ...   28               college  female\n",
              "4           6             6     PAIDOFF  ...   29               college    male\n",
              "\n",
              "[5 rows x 10 columns]"
            ]
          },
          "metadata": {
            "tags": []
          },
          "execution_count": 3
        }
      ]
    },
    {
      "cell_type": "code",
      "metadata": {
        "id": "JwmzUIuHhO-o",
        "colab_type": "code",
        "colab": {
          "base_uri": "https://localhost:8080/",
          "height": 202
        },
        "outputId": "8f60df76-d531-4cbe-fd21-1d5d678e16a8"
      },
      "source": [
        "#Checking for any null values\n",
        "data_train.isnull().sum()"
      ],
      "execution_count": 4,
      "outputs": [
        {
          "output_type": "execute_result",
          "data": {
            "text/plain": [
              "Unnamed: 0        0\n",
              "Unnamed: 0.1      0\n",
              "loan_status       0\n",
              "Principal         0\n",
              "terms             0\n",
              "effective_date    0\n",
              "due_date          0\n",
              "age               0\n",
              "education         0\n",
              "Gender            0\n",
              "dtype: int64"
            ]
          },
          "metadata": {
            "tags": []
          },
          "execution_count": 4
        }
      ]
    },
    {
      "cell_type": "markdown",
      "metadata": {
        "id": "n28TSpY0hzVR",
        "colab_type": "text"
      },
      "source": [
        "**Now we shall convert the various date formats from the above dataframe**"
      ]
    },
    {
      "cell_type": "code",
      "metadata": {
        "id": "ZSNlnWA5hVyf",
        "colab_type": "code",
        "colab": {
          "base_uri": "https://localhost:8080/",
          "height": 402
        },
        "outputId": "8437a62d-ea0d-4539-e777-d091c3191318"
      },
      "source": [
        "data_train['effective_date'] = pd.to_datetime(data_train['effective_date'])\n",
        "data_train['due_date'] =pd.to_datetime(data_train['due_date'])\n",
        "data_train"
      ],
      "execution_count": 5,
      "outputs": [
        {
          "output_type": "execute_result",
          "data": {
            "text/html": [
              "<div>\n",
              "<style scoped>\n",
              "    .dataframe tbody tr th:only-of-type {\n",
              "        vertical-align: middle;\n",
              "    }\n",
              "\n",
              "    .dataframe tbody tr th {\n",
              "        vertical-align: top;\n",
              "    }\n",
              "\n",
              "    .dataframe thead th {\n",
              "        text-align: right;\n",
              "    }\n",
              "</style>\n",
              "<table border=\"1\" class=\"dataframe\">\n",
              "  <thead>\n",
              "    <tr style=\"text-align: right;\">\n",
              "      <th></th>\n",
              "      <th>Unnamed: 0</th>\n",
              "      <th>Unnamed: 0.1</th>\n",
              "      <th>loan_status</th>\n",
              "      <th>Principal</th>\n",
              "      <th>terms</th>\n",
              "      <th>effective_date</th>\n",
              "      <th>due_date</th>\n",
              "      <th>age</th>\n",
              "      <th>education</th>\n",
              "      <th>Gender</th>\n",
              "    </tr>\n",
              "  </thead>\n",
              "  <tbody>\n",
              "    <tr>\n",
              "      <th>0</th>\n",
              "      <td>0</td>\n",
              "      <td>0</td>\n",
              "      <td>PAIDOFF</td>\n",
              "      <td>1000</td>\n",
              "      <td>30</td>\n",
              "      <td>2016-09-08</td>\n",
              "      <td>2016-10-07</td>\n",
              "      <td>45</td>\n",
              "      <td>High School or Below</td>\n",
              "      <td>male</td>\n",
              "    </tr>\n",
              "    <tr>\n",
              "      <th>1</th>\n",
              "      <td>2</td>\n",
              "      <td>2</td>\n",
              "      <td>PAIDOFF</td>\n",
              "      <td>1000</td>\n",
              "      <td>30</td>\n",
              "      <td>2016-09-08</td>\n",
              "      <td>2016-10-07</td>\n",
              "      <td>33</td>\n",
              "      <td>Bechalor</td>\n",
              "      <td>female</td>\n",
              "    </tr>\n",
              "    <tr>\n",
              "      <th>2</th>\n",
              "      <td>3</td>\n",
              "      <td>3</td>\n",
              "      <td>PAIDOFF</td>\n",
              "      <td>1000</td>\n",
              "      <td>15</td>\n",
              "      <td>2016-09-08</td>\n",
              "      <td>2016-09-22</td>\n",
              "      <td>27</td>\n",
              "      <td>college</td>\n",
              "      <td>male</td>\n",
              "    </tr>\n",
              "    <tr>\n",
              "      <th>3</th>\n",
              "      <td>4</td>\n",
              "      <td>4</td>\n",
              "      <td>PAIDOFF</td>\n",
              "      <td>1000</td>\n",
              "      <td>30</td>\n",
              "      <td>2016-09-09</td>\n",
              "      <td>2016-10-08</td>\n",
              "      <td>28</td>\n",
              "      <td>college</td>\n",
              "      <td>female</td>\n",
              "    </tr>\n",
              "    <tr>\n",
              "      <th>4</th>\n",
              "      <td>6</td>\n",
              "      <td>6</td>\n",
              "      <td>PAIDOFF</td>\n",
              "      <td>1000</td>\n",
              "      <td>30</td>\n",
              "      <td>2016-09-09</td>\n",
              "      <td>2016-10-08</td>\n",
              "      <td>29</td>\n",
              "      <td>college</td>\n",
              "      <td>male</td>\n",
              "    </tr>\n",
              "    <tr>\n",
              "      <th>...</th>\n",
              "      <td>...</td>\n",
              "      <td>...</td>\n",
              "      <td>...</td>\n",
              "      <td>...</td>\n",
              "      <td>...</td>\n",
              "      <td>...</td>\n",
              "      <td>...</td>\n",
              "      <td>...</td>\n",
              "      <td>...</td>\n",
              "      <td>...</td>\n",
              "    </tr>\n",
              "    <tr>\n",
              "      <th>341</th>\n",
              "      <td>394</td>\n",
              "      <td>394</td>\n",
              "      <td>COLLECTION</td>\n",
              "      <td>800</td>\n",
              "      <td>15</td>\n",
              "      <td>2016-09-11</td>\n",
              "      <td>2016-09-25</td>\n",
              "      <td>32</td>\n",
              "      <td>High School or Below</td>\n",
              "      <td>male</td>\n",
              "    </tr>\n",
              "    <tr>\n",
              "      <th>342</th>\n",
              "      <td>395</td>\n",
              "      <td>395</td>\n",
              "      <td>COLLECTION</td>\n",
              "      <td>1000</td>\n",
              "      <td>30</td>\n",
              "      <td>2016-09-11</td>\n",
              "      <td>2016-10-10</td>\n",
              "      <td>25</td>\n",
              "      <td>High School or Below</td>\n",
              "      <td>male</td>\n",
              "    </tr>\n",
              "    <tr>\n",
              "      <th>343</th>\n",
              "      <td>397</td>\n",
              "      <td>397</td>\n",
              "      <td>COLLECTION</td>\n",
              "      <td>800</td>\n",
              "      <td>15</td>\n",
              "      <td>2016-09-12</td>\n",
              "      <td>2016-09-26</td>\n",
              "      <td>39</td>\n",
              "      <td>college</td>\n",
              "      <td>male</td>\n",
              "    </tr>\n",
              "    <tr>\n",
              "      <th>344</th>\n",
              "      <td>398</td>\n",
              "      <td>398</td>\n",
              "      <td>COLLECTION</td>\n",
              "      <td>1000</td>\n",
              "      <td>30</td>\n",
              "      <td>2016-09-12</td>\n",
              "      <td>2016-11-10</td>\n",
              "      <td>28</td>\n",
              "      <td>college</td>\n",
              "      <td>male</td>\n",
              "    </tr>\n",
              "    <tr>\n",
              "      <th>345</th>\n",
              "      <td>399</td>\n",
              "      <td>399</td>\n",
              "      <td>COLLECTION</td>\n",
              "      <td>1000</td>\n",
              "      <td>30</td>\n",
              "      <td>2016-09-12</td>\n",
              "      <td>2016-10-11</td>\n",
              "      <td>26</td>\n",
              "      <td>college</td>\n",
              "      <td>male</td>\n",
              "    </tr>\n",
              "  </tbody>\n",
              "</table>\n",
              "<p>346 rows × 10 columns</p>\n",
              "</div>"
            ],
            "text/plain": [
              "     Unnamed: 0  Unnamed: 0.1 loan_status  ...  age             education  Gender\n",
              "0             0             0     PAIDOFF  ...   45  High School or Below    male\n",
              "1             2             2     PAIDOFF  ...   33              Bechalor  female\n",
              "2             3             3     PAIDOFF  ...   27               college    male\n",
              "3             4             4     PAIDOFF  ...   28               college  female\n",
              "4             6             6     PAIDOFF  ...   29               college    male\n",
              "..          ...           ...         ...  ...  ...                   ...     ...\n",
              "341         394           394  COLLECTION  ...   32  High School or Below    male\n",
              "342         395           395  COLLECTION  ...   25  High School or Below    male\n",
              "343         397           397  COLLECTION  ...   39               college    male\n",
              "344         398           398  COLLECTION  ...   28               college    male\n",
              "345         399           399  COLLECTION  ...   26               college    male\n",
              "\n",
              "[346 rows x 10 columns]"
            ]
          },
          "metadata": {
            "tags": []
          },
          "execution_count": 5
        }
      ]
    },
    {
      "cell_type": "markdown",
      "metadata": {
        "id": "4fW9fB5Mi04_",
        "colab_type": "text"
      },
      "source": [
        "# **Data Pre-processing & Visualization**"
      ]
    },
    {
      "cell_type": "code",
      "metadata": {
        "id": "735_s5H-ifqn",
        "colab_type": "code",
        "colab": {
          "base_uri": "https://localhost:8080/",
          "height": 67
        },
        "outputId": "b6a00101-3447-467b-f3e9-c78250743fd6"
      },
      "source": [
        "data_train['loan_status'].value_counts()"
      ],
      "execution_count": 6,
      "outputs": [
        {
          "output_type": "execute_result",
          "data": {
            "text/plain": [
              "PAIDOFF       260\n",
              "COLLECTION     86\n",
              "Name: loan_status, dtype: int64"
            ]
          },
          "metadata": {
            "tags": []
          },
          "execution_count": 6
        }
      ]
    },
    {
      "cell_type": "markdown",
      "metadata": {
        "id": "SFtzEx4qjjtl",
        "colab_type": "text"
      },
      "source": [
        "260 of them have paid off the loan while  86 are in the collection category\n",
        "\n",
        "\n",
        "\n"
      ]
    },
    {
      "cell_type": "code",
      "metadata": {
        "id": "kOCnwm9VkePL",
        "colab_type": "code",
        "colab": {
          "base_uri": "https://localhost:8080/",
          "height": 225
        },
        "outputId": "252d8a2f-10b8-4678-c636-c38e9db51985"
      },
      "source": [
        "#Visualizing the loan_status categories of the principal amount based on the Gender\n",
        "bin = np.linspace(data_train['Principal'].min(), data_train['Principal'].max(), 10)\n",
        "g = sns.FacetGrid(data_train, col='Gender', hue= 'loan_status', palette='Set1', col_wrap=2)\n",
        "g.map(plt.hist, 'Principal', bins= bin, ec='k')\n",
        "\n",
        "#to display what the graph is showing\n",
        "g.axes[-1].legend()\n",
        "plt.show()"
      ],
      "execution_count": 7,
      "outputs": [
        {
          "output_type": "display_data",
          "data": {
            "image/png": "[encoded data removed]",
            "text/plain": [
              "<Figure size 432x216 with 2 Axes>"
            ]
          },
          "metadata": {
            "tags": [],
            "needs_background": "light"
          }
        }
      ]
    },
    {
      "cell_type": "code",
      "metadata": {
        "id": "GANAtyiXihQL",
        "colab_type": "code",
        "colab": {
          "base_uri": "https://localhost:8080/",
          "height": 225
        },
        "outputId": "5ac69d1f-506d-4a0f-fef4-2875623a780a"
      },
      "source": [
        "##Visualizing the loan_status categories based on the Age\n",
        "bin = np.linspace(data_train.age.min(), data_train.age.max(), 10)\n",
        "g = sns.FacetGrid(data_train, col=\"Gender\", hue=\"loan_status\", palette=\"Set1\", col_wrap=2)\n",
        "g.map(plt.hist, 'age', bins=bin, ec=\"k\")\n",
        "\n",
        "#to display what the graph is showing\n",
        "g.axes[-1].legend()\n",
        "plt.show()"
      ],
      "execution_count": 8,
      "outputs": [
        {
          "output_type": "display_data",
          "data": {
            "image/png": "[encoded data removed]",
            "text/plain": [
              "<Figure size 432x216 with 2 Axes>"
            ]
          },
          "metadata": {
            "tags": [],
            "needs_background": "light"
          }
        }
      ]
    },
    {
      "cell_type": "markdown",
      "metadata": {
        "id": "vqeY5iLvnYgA",
        "colab_type": "text"
      },
      "source": [
        "# **Pre-Processing of Data**"
      ]
    },
    {
      "cell_type": "code",
      "metadata": {
        "id": "Nz4SW-yulfvo",
        "colab_type": "code",
        "colab": {
          "base_uri": "https://localhost:8080/",
          "height": 225
        },
        "outputId": "3008c42a-9ab1-4dd0-c66e-1721c2de0a07"
      },
      "source": [
        "data_train['dayofweek'] = data_train['effective_date'].dt.dayofweek\n",
        "\n",
        "bin = np.linspace(data_train.dayofweek.min(), data_train.dayofweek.max(), 10)\n",
        "g = sns.FacetGrid(data_train, col=\"Gender\", hue=\"loan_status\", palette=\"Set1\", col_wrap=2)\n",
        "g.map(plt.hist, 'dayofweek', bins=bin, ec=\"k\")\n",
        "\n",
        "#to display what the graph is showing\n",
        "g.axes[-1].legend()\n",
        "plt.show()"
      ],
      "execution_count": 9,
      "outputs": [
        {
          "output_type": "display_data",
          "data": {
            "image/png": "[encoded data removed]",
            "text/plain": [
              "<Figure size 432x216 with 2 Axes>"
            ]
          },
          "metadata": {
            "tags": [],
            "needs_background": "light"
          }
        }
      ]
    },
    {
      "cell_type": "markdown",
      "metadata": {
        "id": "OjDYEbCJoOJw",
        "colab_type": "text"
      },
      "source": [
        "It can be noted that the individual who get loan on the last days of the week is likely to find difficulties to pay back the loan."
      ]
    },
    {
      "cell_type": "code",
      "metadata": {
        "id": "14wVgsbUoM1-",
        "colab_type": "code",
        "colab": {
          "base_uri": "https://localhost:8080/",
          "height": 195
        },
        "outputId": "7a0fa182-2909-4607-b66f-6782720f4108"
      },
      "source": [
        "''' We create a new column in the dataframe to tell us whenever the day_of_week \n",
        "is more that 3, because most of the people who recieved the loan after the \n",
        "3rd day of the week are likely to default\n",
        "'''\n",
        "# Here lambda function is used like a iteration function\n",
        "data_train['weekend'] = data_train['dayofweek'].apply(lambda x: 1 if (x>3) else 0)\n",
        "data_train.head()"
      ],
      "execution_count": 10,
      "outputs": [
        {
          "output_type": "execute_result",
          "data": {
            "text/html": [
              "<div>\n",
              "<style scoped>\n",
              "    .dataframe tbody tr th:only-of-type {\n",
              "        vertical-align: middle;\n",
              "    }\n",
              "\n",
              "    .dataframe tbody tr th {\n",
              "        vertical-align: top;\n",
              "    }\n",
              "\n",
              "    .dataframe thead th {\n",
              "        text-align: right;\n",
              "    }\n",
              "</style>\n",
              "<table border=\"1\" class=\"dataframe\">\n",
              "  <thead>\n",
              "    <tr style=\"text-align: right;\">\n",
              "      <th></th>\n",
              "      <th>Unnamed: 0</th>\n",
              "      <th>Unnamed: 0.1</th>\n",
              "      <th>loan_status</th>\n",
              "      <th>Principal</th>\n",
              "      <th>terms</th>\n",
              "      <th>effective_date</th>\n",
              "      <th>due_date</th>\n",
              "      <th>age</th>\n",
              "      <th>education</th>\n",
              "      <th>Gender</th>\n",
              "      <th>dayofweek</th>\n",
              "      <th>weekend</th>\n",
              "    </tr>\n",
              "  </thead>\n",
              "  <tbody>\n",
              "    <tr>\n",
              "      <th>0</th>\n",
              "      <td>0</td>\n",
              "      <td>0</td>\n",
              "      <td>PAIDOFF</td>\n",
              "      <td>1000</td>\n",
              "      <td>30</td>\n",
              "      <td>2016-09-08</td>\n",
              "      <td>2016-10-07</td>\n",
              "      <td>45</td>\n",
              "      <td>High School or Below</td>\n",
              "      <td>male</td>\n",
              "      <td>3</td>\n",
              "      <td>0</td>\n",
              "    </tr>\n",
              "    <tr>\n",
              "      <th>1</th>\n",
              "      <td>2</td>\n",
              "      <td>2</td>\n",
              "      <td>PAIDOFF</td>\n",
              "      <td>1000</td>\n",
              "      <td>30</td>\n",
              "      <td>2016-09-08</td>\n",
              "      <td>2016-10-07</td>\n",
              "      <td>33</td>\n",
              "      <td>Bechalor</td>\n",
              "      <td>female</td>\n",
              "      <td>3</td>\n",
              "      <td>0</td>\n",
              "    </tr>\n",
              "    <tr>\n",
              "      <th>2</th>\n",
              "      <td>3</td>\n",
              "      <td>3</td>\n",
              "      <td>PAIDOFF</td>\n",
              "      <td>1000</td>\n",
              "      <td>15</td>\n",
              "      <td>2016-09-08</td>\n",
              "      <td>2016-09-22</td>\n",
              "      <td>27</td>\n",
              "      <td>college</td>\n",
              "      <td>male</td>\n",
              "      <td>3</td>\n",
              "      <td>0</td>\n",
              "    </tr>\n",
              "    <tr>\n",
              "      <th>3</th>\n",
              "      <td>4</td>\n",
              "      <td>4</td>\n",
              "      <td>PAIDOFF</td>\n",
              "      <td>1000</td>\n",
              "      <td>30</td>\n",
              "      <td>2016-09-09</td>\n",
              "      <td>2016-10-08</td>\n",
              "      <td>28</td>\n",
              "      <td>college</td>\n",
              "      <td>female</td>\n",
              "      <td>4</td>\n",
              "      <td>1</td>\n",
              "    </tr>\n",
              "    <tr>\n",
              "      <th>4</th>\n",
              "      <td>6</td>\n",
              "      <td>6</td>\n",
              "      <td>PAIDOFF</td>\n",
              "      <td>1000</td>\n",
              "      <td>30</td>\n",
              "      <td>2016-09-09</td>\n",
              "      <td>2016-10-08</td>\n",
              "      <td>29</td>\n",
              "      <td>college</td>\n",
              "      <td>male</td>\n",
              "      <td>4</td>\n",
              "      <td>1</td>\n",
              "    </tr>\n",
              "  </tbody>\n",
              "</table>\n",
              "</div>"
            ],
            "text/plain": [
              "   Unnamed: 0  Unnamed: 0.1 loan_status  ...  Gender  dayofweek weekend\n",
              "0           0             0     PAIDOFF  ...    male          3       0\n",
              "1           2             2     PAIDOFF  ...  female          3       0\n",
              "2           3             3     PAIDOFF  ...    male          3       0\n",
              "3           4             4     PAIDOFF  ...  female          4       1\n",
              "4           6             6     PAIDOFF  ...    male          4       1\n",
              "\n",
              "[5 rows x 12 columns]"
            ]
          },
          "metadata": {
            "tags": []
          },
          "execution_count": 10
        }
      ]
    },
    {
      "cell_type": "code",
      "metadata": {
        "id": "SyHNCj7rwu-W",
        "colab_type": "code",
        "colab": {
          "base_uri": "https://localhost:8080/",
          "height": 195
        },
        "outputId": "1df0f189-1a52-4883-d9e2-67e2bf7490e9"
      },
      "source": [
        "#Dropping the unwanted columns\n",
        "data_train = data_train.drop(['Unnamed: 0','Unnamed: 0.1'], axis=1)\n",
        "\n",
        "#replacing the Gender names, Male=0 & Female=1\n",
        "data_train['Gender'].replace(to_replace=['male','female'], value=[0,1], inplace=True)\n",
        "data_train.head()"
      ],
      "execution_count": 11,
      "outputs": [
        {
          "output_type": "execute_result",
          "data": {
            "text/html": [
              "<div>\n",
              "<style scoped>\n",
              "    .dataframe tbody tr th:only-of-type {\n",
              "        vertical-align: middle;\n",
              "    }\n",
              "\n",
              "    .dataframe tbody tr th {\n",
              "        vertical-align: top;\n",
              "    }\n",
              "\n",
              "    .dataframe thead th {\n",
              "        text-align: right;\n",
              "    }\n",
              "</style>\n",
              "<table border=\"1\" class=\"dataframe\">\n",
              "  <thead>\n",
              "    <tr style=\"text-align: right;\">\n",
              "      <th></th>\n",
              "      <th>loan_status</th>\n",
              "      <th>Principal</th>\n",
              "      <th>terms</th>\n",
              "      <th>effective_date</th>\n",
              "      <th>due_date</th>\n",
              "      <th>age</th>\n",
              "      <th>education</th>\n",
              "      <th>Gender</th>\n",
              "      <th>dayofweek</th>\n",
              "      <th>weekend</th>\n",
              "    </tr>\n",
              "  </thead>\n",
              "  <tbody>\n",
              "    <tr>\n",
              "      <th>0</th>\n",
              "      <td>PAIDOFF</td>\n",
              "      <td>1000</td>\n",
              "      <td>30</td>\n",
              "      <td>2016-09-08</td>\n",
              "      <td>2016-10-07</td>\n",
              "      <td>45</td>\n",
              "      <td>High School or Below</td>\n",
              "      <td>0</td>\n",
              "      <td>3</td>\n",
              "      <td>0</td>\n",
              "    </tr>\n",
              "    <tr>\n",
              "      <th>1</th>\n",
              "      <td>PAIDOFF</td>\n",
              "      <td>1000</td>\n",
              "      <td>30</td>\n",
              "      <td>2016-09-08</td>\n",
              "      <td>2016-10-07</td>\n",
              "      <td>33</td>\n",
              "      <td>Bechalor</td>\n",
              "      <td>1</td>\n",
              "      <td>3</td>\n",
              "      <td>0</td>\n",
              "    </tr>\n",
              "    <tr>\n",
              "      <th>2</th>\n",
              "      <td>PAIDOFF</td>\n",
              "      <td>1000</td>\n",
              "      <td>15</td>\n",
              "      <td>2016-09-08</td>\n",
              "      <td>2016-09-22</td>\n",
              "      <td>27</td>\n",
              "      <td>college</td>\n",
              "      <td>0</td>\n",
              "      <td>3</td>\n",
              "      <td>0</td>\n",
              "    </tr>\n",
              "    <tr>\n",
              "      <th>3</th>\n",
              "      <td>PAIDOFF</td>\n",
              "      <td>1000</td>\n",
              "      <td>30</td>\n",
              "      <td>2016-09-09</td>\n",
              "      <td>2016-10-08</td>\n",
              "      <td>28</td>\n",
              "      <td>college</td>\n",
              "      <td>1</td>\n",
              "      <td>4</td>\n",
              "      <td>1</td>\n",
              "    </tr>\n",
              "    <tr>\n",
              "      <th>4</th>\n",
              "      <td>PAIDOFF</td>\n",
              "      <td>1000</td>\n",
              "      <td>30</td>\n",
              "      <td>2016-09-09</td>\n",
              "      <td>2016-10-08</td>\n",
              "      <td>29</td>\n",
              "      <td>college</td>\n",
              "      <td>0</td>\n",
              "      <td>4</td>\n",
              "      <td>1</td>\n",
              "    </tr>\n",
              "  </tbody>\n",
              "</table>\n",
              "</div>"
            ],
            "text/plain": [
              "  loan_status  Principal  terms  ... Gender dayofweek  weekend\n",
              "0     PAIDOFF       1000     30  ...      0         3        0\n",
              "1     PAIDOFF       1000     30  ...      1         3        0\n",
              "2     PAIDOFF       1000     15  ...      0         3        0\n",
              "3     PAIDOFF       1000     30  ...      1         4        1\n",
              "4     PAIDOFF       1000     30  ...      0         4        1\n",
              "\n",
              "[5 rows x 10 columns]"
            ]
          },
          "metadata": {
            "tags": []
          },
          "execution_count": 11
        }
      ]
    },
    {
      "cell_type": "code",
      "metadata": {
        "id": "0b3QmyoayzQc",
        "colab_type": "code",
        "colab": {
          "base_uri": "https://localhost:8080/",
          "height": 185
        },
        "outputId": "eff79c71-9d99-4125-82e8-7f20ed5e52c0"
      },
      "source": [
        "data_train.groupby(['education'])['loan_status'].value_counts(normalize=True)"
      ],
      "execution_count": 12,
      "outputs": [
        {
          "output_type": "execute_result",
          "data": {
            "text/plain": [
              "education             loan_status\n",
              "Bechalor              PAIDOFF        0.750000\n",
              "                      COLLECTION     0.250000\n",
              "High School or Below  PAIDOFF        0.741722\n",
              "                      COLLECTION     0.258278\n",
              "Master or Above       COLLECTION     0.500000\n",
              "                      PAIDOFF        0.500000\n",
              "college               PAIDOFF        0.765101\n",
              "                      COLLECTION     0.234899\n",
              "Name: loan_status, dtype: float64"
            ]
          },
          "metadata": {
            "tags": []
          },
          "execution_count": 12
        }
      ]
    },
    {
      "cell_type": "code",
      "metadata": {
        "button": false,
        "new_sheet": false,
        "run_control": {
          "read_only": false
        },
        "id": "NycidSiugx6B",
        "colab_type": "code",
        "colab": {
          "base_uri": "https://localhost:8080/",
          "height": 195
        },
        "outputId": "950cf4bf-b7e7-405d-96e9-53a4b43355f1"
      },
      "source": [
        "# Selecting the columns that we need for analysis\n",
        "Feature = data_train[['Principal','terms','age','Gender','weekend']]\n",
        "df = pd.get_dummies(data_train['education']).rename(columns={'Bechalor':'Bachelor', 'college':'College'})\n",
        "Feature = pd.concat([Feature,df], axis=1)\n",
        "\n",
        "# Drop the Master or Above column since they are 50-50\n",
        "Feature.drop(['Master or Above'], axis = 1,inplace=True)\n",
        "Feature.head()\n"
      ],
      "execution_count": 13,
      "outputs": [
        {
          "output_type": "execute_result",
          "data": {
            "text/html": [
              "<div>\n",
              "<style scoped>\n",
              "    .dataframe tbody tr th:only-of-type {\n",
              "        vertical-align: middle;\n",
              "    }\n",
              "\n",
              "    .dataframe tbody tr th {\n",
              "        vertical-align: top;\n",
              "    }\n",
              "\n",
              "    .dataframe thead th {\n",
              "        text-align: right;\n",
              "    }\n",
              "</style>\n",
              "<table border=\"1\" class=\"dataframe\">\n",
              "  <thead>\n",
              "    <tr style=\"text-align: right;\">\n",
              "      <th></th>\n",
              "      <th>Principal</th>\n",
              "      <th>terms</th>\n",
              "      <th>age</th>\n",
              "      <th>Gender</th>\n",
              "      <th>weekend</th>\n",
              "      <th>Bachelor</th>\n",
              "      <th>High School or Below</th>\n",
              "      <th>College</th>\n",
              "    </tr>\n",
              "  </thead>\n",
              "  <tbody>\n",
              "    <tr>\n",
              "      <th>0</th>\n",
              "      <td>1000</td>\n",
              "      <td>30</td>\n",
              "      <td>45</td>\n",
              "      <td>0</td>\n",
              "      <td>0</td>\n",
              "      <td>0</td>\n",
              "      <td>1</td>\n",
              "      <td>0</td>\n",
              "    </tr>\n",
              "    <tr>\n",
              "      <th>1</th>\n",
              "      <td>1000</td>\n",
              "      <td>30</td>\n",
              "      <td>33</td>\n",
              "      <td>1</td>\n",
              "      <td>0</td>\n",
              "      <td>1</td>\n",
              "      <td>0</td>\n",
              "      <td>0</td>\n",
              "    </tr>\n",
              "    <tr>\n",
              "      <th>2</th>\n",
              "      <td>1000</td>\n",
              "      <td>15</td>\n",
              "      <td>27</td>\n",
              "      <td>0</td>\n",
              "      <td>0</td>\n",
              "      <td>0</td>\n",
              "      <td>0</td>\n",
              "      <td>1</td>\n",
              "    </tr>\n",
              "    <tr>\n",
              "      <th>3</th>\n",
              "      <td>1000</td>\n",
              "      <td>30</td>\n",
              "      <td>28</td>\n",
              "      <td>1</td>\n",
              "      <td>1</td>\n",
              "      <td>0</td>\n",
              "      <td>0</td>\n",
              "      <td>1</td>\n",
              "    </tr>\n",
              "    <tr>\n",
              "      <th>4</th>\n",
              "      <td>1000</td>\n",
              "      <td>30</td>\n",
              "      <td>29</td>\n",
              "      <td>0</td>\n",
              "      <td>1</td>\n",
              "      <td>0</td>\n",
              "      <td>0</td>\n",
              "      <td>1</td>\n",
              "    </tr>\n",
              "  </tbody>\n",
              "</table>\n",
              "</div>"
            ],
            "text/plain": [
              "   Principal  terms  age  ...  Bachelor  High School or Below  College\n",
              "0       1000     30   45  ...         0                     1        0\n",
              "1       1000     30   33  ...         1                     0        0\n",
              "2       1000     15   27  ...         0                     0        1\n",
              "3       1000     30   28  ...         0                     0        1\n",
              "4       1000     30   29  ...         0                     0        1\n",
              "\n",
              "[5 rows x 8 columns]"
            ]
          },
          "metadata": {
            "tags": []
          },
          "execution_count": 13
        }
      ]
    },
    {
      "cell_type": "markdown",
      "metadata": {
        "id": "jHNTZ-LU5W0i",
        "colab_type": "text"
      },
      "source": [
        "# **Feature Selection & Normalization**"
      ]
    },
    {
      "cell_type": "code",
      "metadata": {
        "id": "DAFjGT8CpOro",
        "colab_type": "code",
        "colab": {}
      },
      "source": [
        "X = Feature\n",
        "Y = data_train['loan_status'].values\n"
      ],
      "execution_count": 14,
      "outputs": []
    },
    {
      "cell_type": "code",
      "metadata": {
        "id": "UG7ClKrO3aX7",
        "colab_type": "code",
        "colab": {
          "base_uri": "https://localhost:8080/",
          "height": 185
        },
        "outputId": "4ae4b1f3-3946-455c-892e-247e82f65051"
      },
      "source": [
        "from sklearn.preprocessing import StandardScaler\n",
        "ss = StandardScaler()\n",
        "X = ss.fit_transform(X)\n",
        "X[0:5]"
      ],
      "execution_count": 15,
      "outputs": [
        {
          "output_type": "execute_result",
          "data": {
            "text/plain": [
              "array([[ 0.51578458,  0.92071769,  2.33152555, -0.42056004, -1.20577805,\n",
              "        -0.38170062,  1.13639374, -0.86968108],\n",
              "       [ 0.51578458,  0.92071769,  0.34170148,  2.37778177, -1.20577805,\n",
              "         2.61985426, -0.87997669, -0.86968108],\n",
              "       [ 0.51578458, -0.95911111, -0.65321055, -0.42056004, -1.20577805,\n",
              "        -0.38170062, -0.87997669,  1.14984679],\n",
              "       [ 0.51578458,  0.92071769, -0.48739188,  2.37778177,  0.82934003,\n",
              "        -0.38170062, -0.87997669,  1.14984679],\n",
              "       [ 0.51578458,  0.92071769, -0.3215732 , -0.42056004,  0.82934003,\n",
              "        -0.38170062, -0.87997669,  1.14984679]])"
            ]
          },
          "metadata": {
            "tags": []
          },
          "execution_count": 15
        }
      ]
    },
    {
      "cell_type": "markdown",
      "metadata": {
        "id": "HFEQvQ-Q6cOZ",
        "colab_type": "text"
      },
      "source": [
        "**Classification using the following algorithms :** \n",
        "\n",
        "1. K Nearest Neighbor(KNN)\n",
        "2. Decision Tree\n",
        "3. Support Vector Machine\n",
        "4. Logistic Regression\n",
        "\n",
        "\n",
        "\n",
        "\n"
      ]
    },
    {
      "cell_type": "code",
      "metadata": {
        "id": "MzkU8_DZ51jp",
        "colab_type": "code",
        "colab": {}
      },
      "source": [
        "from sklearn.model_selection import train_test_split\n",
        "x_train, x_test, y_train, y_test = train_test_split(X, Y, test_size=0.2, random_state= 2)"
      ],
      "execution_count": 16,
      "outputs": []
    },
    {
      "cell_type": "code",
      "metadata": {
        "id": "0tClaXu06aee",
        "colab_type": "code",
        "colab": {}
      },
      "source": [
        ""
      ],
      "execution_count": 16,
      "outputs": []
    },
    {
      "cell_type": "markdown",
      "metadata": {
        "id": "7ASs7daA7DuI",
        "colab_type": "text"
      },
      "source": [
        "# **K Nearest Neighbor(KNN)**"
      ]
    },
    {
      "cell_type": "code",
      "metadata": {
        "id": "v3g9Y0tk7DPY",
        "colab_type": "code",
        "colab": {
          "base_uri": "https://localhost:8080/",
          "height": 168
        },
        "outputId": "c5067fae-c7e3-42c6-e852-e75bfcba87a3"
      },
      "source": [
        "from sklearn.neighbors import KNeighborsClassifier\n",
        "from sklearn.metrics import accuracy_score\n",
        "\n",
        "#Comparing all the possibilities of k values\n",
        "   \n",
        "mean_score = []\n",
        "\n",
        "for i in range(1,10):\n",
        "  knn = KNeighborsClassifier(n_neighbors=i)\n",
        "  knn.fit(x_train,y_train)\n",
        "  y_pred = knn.predict(x_test)\n",
        "  mean_score.append(accuracy_score(y_pred,y_test))\n",
        "\n",
        "for n in range(0, len(mean_score)):\n",
        "    print(\"k = {} has a Score = {} \".format(n+1, mean_score[n]))\n",
        "  \n",
        "  \n",
        "\n"
      ],
      "execution_count": 17,
      "outputs": [
        {
          "output_type": "stream",
          "text": [
            "k = 1 has a Score = 0.6428571428571429 \n",
            "k = 2 has a Score = 0.5571428571428572 \n",
            "k = 3 has a Score = 0.7142857142857143 \n",
            "k = 4 has a Score = 0.6285714285714286 \n",
            "k = 5 has a Score = 0.7571428571428571 \n",
            "k = 6 has a Score = 0.6571428571428571 \n",
            "k = 7 has a Score = 0.7571428571428571 \n",
            "k = 8 has a Score = 0.7142857142857143 \n",
            "k = 9 has a Score = 0.7 \n"
          ],
          "name": "stdout"
        }
      ]
    },
    {
      "cell_type": "markdown",
      "metadata": {
        "id": "JNNg54889Uza",
        "colab_type": "text"
      },
      "source": [
        "**From the results, k=9 has the best score**"
      ]
    },
    {
      "cell_type": "code",
      "metadata": {
        "id": "6wHTwZwU7r0R",
        "colab_type": "code",
        "colab": {
          "base_uri": "https://localhost:8080/",
          "height": 67
        },
        "outputId": "b238c9f9-62b1-414d-9814-8f4c4f5adaaf"
      },
      "source": [
        "# Final Model with best value of k\n",
        "\n",
        "knn_model = KNeighborsClassifier(n_neighbors = 9)\n",
        "knn_model.fit(x_train, y_train)\n",
        "knn_pred = knn_model.predict(x_test)\n",
        "\n",
        "knn_model"
      ],
      "execution_count": 18,
      "outputs": [
        {
          "output_type": "execute_result",
          "data": {
            "text/plain": [
              "KNeighborsClassifier(algorithm='auto', leaf_size=30, metric='minkowski',\n",
              "                     metric_params=None, n_jobs=None, n_neighbors=9, p=2,\n",
              "                     weights='uniform')"
            ]
          },
          "metadata": {
            "tags": []
          },
          "execution_count": 18
        }
      ]
    },
    {
      "cell_type": "markdown",
      "metadata": {
        "id": "SP6N77Xkgx6s",
        "colab_type": "text"
      },
      "source": [
        "# **Decision Tree**"
      ]
    },
    {
      "cell_type": "code",
      "metadata": {
        "id": "ZS2cfRmd-Pmf",
        "colab_type": "code",
        "colab": {}
      },
      "source": [
        "from sklearn.tree import DecisionTreeClassifier\n",
        "from sklearn.metrics import jaccard_similarity_score\n",
        "from sklearn.metrics import f1_score\n",
        "\n",
        "# To ignore warnings\n",
        "from warnings import filterwarnings\n",
        "filterwarnings('ignore')\n",
        "\n",
        "dt = DecisionTreeClassifier()\n",
        "\n",
        "depth_range = range(1, 10)\n",
        "f1_score_= []\n",
        "jaccard_similarity_score_ =[]\n",
        "\n",
        "for d in depth_range:\n",
        "    dt = DecisionTreeClassifier(criterion = 'gini', max_depth = d)\n",
        "    dt.fit(x_train, y_train)\n",
        "    dt_pred = dt.predict(x_test)\n",
        "    jaccard_similarity_score_.append(jaccard_similarity_score(y_test, dt_pred))\n",
        "    f1_score_.append(f1_score(y_test, dt_pred, average = 'weighted'))\n"
      ],
      "execution_count": 19,
      "outputs": []
    },
    {
      "cell_type": "code",
      "metadata": {
        "id": "By37cjw2Aden",
        "colab_type": "code",
        "colab": {
          "base_uri": "https://localhost:8080/",
          "height": 106
        },
        "outputId": "dfc52a13-d3f2-480a-ef1b-ccf8cfed68af"
      },
      "source": [
        "result = pd.DataFrame([jaccard_similarity_score_, f1_score_], index = ['Jaccard Similarity Score','F1 Score'], columns = ['d = 1','d = 2','d = 3','d = 4','d = 5','d = 6','d = 7','d = 8','d = 9'])\n",
        "result.columns.name = 'Evaluation Metrices'\n",
        "result"
      ],
      "execution_count": 20,
      "outputs": [
        {
          "output_type": "execute_result",
          "data": {
            "text/html": [
              "<div>\n",
              "<style scoped>\n",
              "    .dataframe tbody tr th:only-of-type {\n",
              "        vertical-align: middle;\n",
              "    }\n",
              "\n",
              "    .dataframe tbody tr th {\n",
              "        vertical-align: top;\n",
              "    }\n",
              "\n",
              "    .dataframe thead th {\n",
              "        text-align: right;\n",
              "    }\n",
              "</style>\n",
              "<table border=\"1\" class=\"dataframe\">\n",
              "  <thead>\n",
              "    <tr style=\"text-align: right;\">\n",
              "      <th>Evaluation Metrices</th>\n",
              "      <th>d = 1</th>\n",
              "      <th>d = 2</th>\n",
              "      <th>d = 3</th>\n",
              "      <th>d = 4</th>\n",
              "      <th>d = 5</th>\n",
              "      <th>d = 6</th>\n",
              "      <th>d = 7</th>\n",
              "      <th>d = 8</th>\n",
              "      <th>d = 9</th>\n",
              "    </tr>\n",
              "  </thead>\n",
              "  <tbody>\n",
              "    <tr>\n",
              "      <th>Jaccard Similarity Score</th>\n",
              "      <td>0.828571</td>\n",
              "      <td>0.828571</td>\n",
              "      <td>0.800000</td>\n",
              "      <td>0.70000</td>\n",
              "      <td>0.642857</td>\n",
              "      <td>0.671429</td>\n",
              "      <td>0.714286</td>\n",
              "      <td>0.714286</td>\n",
              "      <td>0.742857</td>\n",
              "    </tr>\n",
              "    <tr>\n",
              "      <th>F1 Score</th>\n",
              "      <td>0.750893</td>\n",
              "      <td>0.750893</td>\n",
              "      <td>0.736508</td>\n",
              "      <td>0.69476</td>\n",
              "      <td>0.657958</td>\n",
              "      <td>0.676571</td>\n",
              "      <td>0.722768</td>\n",
              "      <td>0.722768</td>\n",
              "      <td>0.742857</td>\n",
              "    </tr>\n",
              "  </tbody>\n",
              "</table>\n",
              "</div>"
            ],
            "text/plain": [
              "Evaluation Metrices          d = 1     d = 2  ...     d = 8     d = 9\n",
              "Jaccard Similarity Score  0.828571  0.828571  ...  0.714286  0.742857\n",
              "F1 Score                  0.750893  0.750893  ...  0.722768  0.742857\n",
              "\n",
              "[2 rows x 9 columns]"
            ]
          },
          "metadata": {
            "tags": []
          },
          "execution_count": 20
        }
      ]
    },
    {
      "cell_type": "code",
      "metadata": {
        "id": "kcirIalt_qD1",
        "colab_type": "code",
        "colab": {
          "base_uri": "https://localhost:8080/",
          "height": 118
        },
        "outputId": "f4c89ccf-3f5e-4ce6-f665-947305fd8418"
      },
      "source": [
        "# Main model\n",
        "\n",
        "dt = DecisionTreeClassifier(criterion = 'entropy', max_depth=2)\n",
        "dt.fit(x_train, y_train)\n",
        "dt_pred = dt.predict(x_test)\n",
        "\n",
        "dt"
      ],
      "execution_count": 21,
      "outputs": [
        {
          "output_type": "execute_result",
          "data": {
            "text/plain": [
              "DecisionTreeClassifier(ccp_alpha=0.0, class_weight=None, criterion='entropy',\n",
              "                       max_depth=2, max_features=None, max_leaf_nodes=None,\n",
              "                       min_impurity_decrease=0.0, min_impurity_split=None,\n",
              "                       min_samples_leaf=1, min_samples_split=2,\n",
              "                       min_weight_fraction_leaf=0.0, presort='deprecated',\n",
              "                       random_state=None, splitter='best')"
            ]
          },
          "metadata": {
            "tags": []
          },
          "execution_count": 21
        }
      ]
    },
    {
      "cell_type": "code",
      "metadata": {
        "id": "vGvFa9hvGWMZ",
        "colab_type": "code",
        "colab": {
          "base_uri": "https://localhost:8080/",
          "height": 690
        },
        "outputId": "0b482502-e63c-40a9-d71a-ae0ca79b3479"
      },
      "source": [
        "from sklearn.externals.six import StringIO\n",
        "import pydotplus\n",
        "import matplotlib.image as mpimg\n",
        "from sklearn import tree\n",
        "%matplotlib inline\n",
        "\n",
        "\n",
        "# Drawing the decision Tree\n",
        "dot_data = StringIO()\n",
        "filename = \"tree.png\"\n",
        "featureNames = Feature.columns[0:8]\n",
        "targetNames = data_train[\"loan_status\"].unique().tolist()\n",
        "out=tree.export_graphviz(dt,feature_names=featureNames, out_file=dot_data, class_names= np.unique(y_train), filled=True,\n",
        "                         special_characters=True,rotate=False)  \n",
        "graph = pydotplus.graph_from_dot_data(dot_data.getvalue())  \n",
        "graph.write_png(filename)\n",
        "img = mpimg.imread(filename)\n",
        "plt.figure(figsize=(100, 200))\n",
        "plt.imshow(img,interpolation='nearest')"
      ],
      "execution_count": 22,
      "outputs": [
        {
          "output_type": "execute_result",
          "data": {
            "text/plain": [
              "<matplotlib.image.AxesImage at 0x7f0862fc8898>"
            ]
          },
          "metadata": {
            "tags": []
          },
          "execution_count": 22
        },
        {
          "output_type": "display_data",
          "data": {
            "image/png": "[encoded data removed]",
            "text/plain": [
              "<Figure size 7200x14400 with 1 Axes>"
            ]
          },
          "metadata": {
            "tags": [],
            "needs_background": "light"
          }
        }
      ]
    },
    {
      "cell_type": "markdown",
      "metadata": {
        "id": "zCvhElX2gx65",
        "colab_type": "text"
      },
      "source": [
        "# **Support Vector Machine**"
      ]
    },
    {
      "cell_type": "code",
      "metadata": {
        "id": "UyX24jUfBKnQ",
        "colab_type": "code",
        "colab": {}
      },
      "source": [
        "from sklearn.svm import SVC \n",
        "from sklearn.metrics import jaccard_similarity_score\n",
        "from sklearn.metrics import f1_score\n",
        "\n",
        "kernel_func = ['sigmoid', 'poly', 'rbf', 'linear']\n",
        "accuracy_score = []\n",
        "\n",
        "for k in kernel_func:\n",
        "    svc_model = SVC(C = 0.01, gamma = 'auto', kernel = k)\n",
        "    svc_model.fit(x_train, y_train)\n",
        "    svc_pred = svc_model.predict(x_test)\n",
        "    accuracy_score.append(f1_score(y_test, svc_pred, average = 'weighted'))"
      ],
      "execution_count": 23,
      "outputs": []
    },
    {
      "cell_type": "code",
      "metadata": {
        "id": "rWmC4nSIDBea",
        "colab_type": "code",
        "colab": {
          "base_uri": "https://localhost:8080/",
          "height": 296
        },
        "outputId": "40db64ca-7c21-4e55-d113-be2a4b9e9ea6"
      },
      "source": [
        "# Visualization of best kernel\n",
        "\n",
        "y_pos = np.arange(len(kernel_func))\n",
        "plt.bar(y_pos, accuracy_score, alpha = 0.7)\n",
        "plt.xticks(y_pos, kernel_func)\n",
        "plt.xlabel('Kernel Functions')\n",
        "plt.ylabel('Accuracy')"
      ],
      "execution_count": 24,
      "outputs": [
        {
          "output_type": "execute_result",
          "data": {
            "text/plain": [
              "Text(0, 0.5, 'Accuracy')"
            ]
          },
          "metadata": {
            "tags": []
          },
          "execution_count": 24
        },
        {
          "output_type": "display_data",
          "data": {
            "image/png": "[encoded data removed]",
            "text/plain": [
              "<Figure size 432x288 with 1 Axes>"
            ]
          },
          "metadata": {
            "tags": [],
            "needs_background": "light"
          }
        }
      ]
    },
    {
      "cell_type": "markdown",
      "metadata": {
        "id": "ml6oy8gIDWCm",
        "colab_type": "text"
      },
      "source": [
        "We create the main model using the kerner **poly** because it has more accuracy"
      ]
    },
    {
      "cell_type": "code",
      "metadata": {
        "id": "AEsqIgleDOtT",
        "colab_type": "code",
        "colab": {
          "base_uri": "https://localhost:8080/",
          "height": 84
        },
        "outputId": "820457c0-464b-413f-a6e8-5aa311216fd4"
      },
      "source": [
        "#Main Model\n",
        "\n",
        "svc_model = SVC(C = 0.01, gamma = 'auto', kernel = 'poly')\n",
        "svc_model.fit(x_train, y_train)\n",
        "svc_model"
      ],
      "execution_count": 25,
      "outputs": [
        {
          "output_type": "execute_result",
          "data": {
            "text/plain": [
              "SVC(C=0.01, break_ties=False, cache_size=200, class_weight=None, coef0=0.0,\n",
              "    decision_function_shape='ovr', degree=3, gamma='auto', kernel='poly',\n",
              "    max_iter=-1, probability=False, random_state=None, shrinking=True,\n",
              "    tol=0.001, verbose=False)"
            ]
          },
          "metadata": {
            "tags": []
          },
          "execution_count": 25
        }
      ]
    },
    {
      "cell_type": "markdown",
      "metadata": {
        "id": "9T8EGXF-gx7L",
        "colab_type": "text"
      },
      "source": [
        "# Logistic Regression"
      ]
    },
    {
      "cell_type": "code",
      "metadata": {
        "id": "K570MkFjDiok",
        "colab_type": "code",
        "colab": {}
      },
      "source": [
        "from sklearn.linear_model import LogisticRegression \n",
        "from sklearn.metrics import log_loss\n",
        "\n",
        "#for ignoring all the warnings\n",
        "from warnings import filterwarnings\n",
        "filterwarnings('ignore')"
      ],
      "execution_count": 26,
      "outputs": []
    },
    {
      "cell_type": "code",
      "metadata": {
        "id": "CFGdMeksE1lf",
        "colab_type": "code",
        "colab": {
          "base_uri": "https://localhost:8080/",
          "height": 370
        },
        "outputId": "9ffd2778-a843-426c-e17d-7349a2d65a24"
      },
      "source": [
        "solvers = ['lbfgs', 'saga', 'liblinear', 'newton-cg', 'sag']\n",
        "regularization_val = [0.1, 0.01, 0.001]\n",
        "index = []\n",
        "accuracy_score = []\n",
        "iterations = 0\n",
        "\n",
        "for index1, c in enumerate(regularization_val):\n",
        "    for index2, solver in enumerate(solvers):\n",
        "        index.append(index1 + index2 *5)\n",
        "        iterations +=1\n",
        "        lr_model = LogisticRegression(C = c, solver = solver)\n",
        "        lr_model.fit(x_train, y_train)\n",
        "        lr_yhat = lr_model.predict(x_test)\n",
        "        y_prob = lr_model.predict_proba(x_test)\n",
        "        print('Test {}: Accuracy at C = {} when Solver = {} is : {}'.format(iterations, c, solver, log_loss(y_test, y_prob) ))\n",
        "        accuracy_score.append(log_loss(y_test, y_prob))\n",
        "                              \n",
        "    print('\\n')"
      ],
      "execution_count": 27,
      "outputs": [
        {
          "output_type": "stream",
          "text": [
            "Test 1: Accuracy at C = 0.1 when Solver = lbfgs is : 0.4343730868201016\n",
            "Test 2: Accuracy at C = 0.1 when Solver = saga is : 0.434368778596869\n",
            "Test 3: Accuracy at C = 0.1 when Solver = liblinear is : 0.4549507341538283\n",
            "Test 4: Accuracy at C = 0.1 when Solver = newton-cg is : 0.4343727244787379\n",
            "Test 5: Accuracy at C = 0.1 when Solver = sag is : 0.43436588291946965\n",
            "\n",
            "\n",
            "Test 6: Accuracy at C = 0.01 when Solver = lbfgs is : 0.4529024775789561\n",
            "Test 7: Accuracy at C = 0.01 when Solver = saga is : 0.45290451949912075\n",
            "Test 8: Accuracy at C = 0.01 when Solver = liblinear is : 0.5596633457155463\n",
            "Test 9: Accuracy at C = 0.01 when Solver = newton-cg is : 0.4529024348154771\n",
            "Test 10: Accuracy at C = 0.01 when Solver = sag is : 0.4529206859008957\n",
            "\n",
            "\n",
            "Test 11: Accuracy at C = 0.001 when Solver = lbfgs is : 0.4787024545768455\n",
            "Test 12: Accuracy at C = 0.001 when Solver = saga is : 0.47870240392430247\n",
            "Test 13: Accuracy at C = 0.001 when Solver = liblinear is : 0.6685399066061889\n",
            "Test 14: Accuracy at C = 0.001 when Solver = newton-cg is : 0.4787024591671967\n",
            "Test 15: Accuracy at C = 0.001 when Solver = sag is : 0.4787566266076249\n",
            "\n",
            "\n"
          ],
          "name": "stdout"
        }
      ]
    },
    {
      "cell_type": "code",
      "metadata": {
        "id": "cZlDhnUCGeKu",
        "colab_type": "code",
        "colab": {
          "base_uri": "https://localhost:8080/",
          "height": 101
        },
        "outputId": "5b62c6d9-4a2b-4348-f8ca-b6928c115684"
      },
      "source": [
        "# Main Model\n",
        "\n",
        "from sklearn.linear_model import LogisticRegression \n",
        "\n",
        "lr_model = LogisticRegression(C = 0.001, solver = 'liblinear')\n",
        "lr_model.fit(x_train, y_train)\n",
        "lr_pred = lr_model.predict(x_test)\n",
        "lr_model"
      ],
      "execution_count": 28,
      "outputs": [
        {
          "output_type": "execute_result",
          "data": {
            "text/plain": [
              "LogisticRegression(C=0.001, class_weight=None, dual=False, fit_intercept=True,\n",
              "                   intercept_scaling=1, l1_ratio=None, max_iter=100,\n",
              "                   multi_class='auto', n_jobs=None, penalty='l2',\n",
              "                   random_state=None, solver='liblinear', tol=0.0001, verbose=0,\n",
              "                   warm_start=False)"
            ]
          },
          "metadata": {
            "tags": []
          },
          "execution_count": 28
        }
      ]
    },
    {
      "cell_type": "code",
      "metadata": {
        "id": "G6BSFwSiBHaQ",
        "colab_type": "code",
        "colab": {
          "base_uri": "https://localhost:8080/",
          "height": 166
        },
        "outputId": "d1e8eaab-d7b2-4914-bef8-de6c05e11170"
      },
      "source": [
        "from sklearn.metrics import accuracy_score\n",
        "\n",
        "#Knn\n",
        "knn_ans = (round(accuracy_score(knn_pred, y_test),3))*100\n",
        "\n",
        "#Decision Tree\n",
        "dt_ans = (round(accuracy_score(dt_pred, y_test),3))*100\n",
        "\n",
        "#SVM\n",
        "svm_ans = (round(accuracy_score(svc_pred, y_test),3))*100\n",
        "\n",
        "#Logistic Regression\n",
        "lr_ans = (round(accuracy_score(lr_pred, y_test),3))*100\n",
        "\n",
        "final_accuracy = [knn_ans,dt_ans,svm_ans, lr_ans]\n",
        "\n",
        "\n",
        "accuracy_df = pd.DataFrame([final_accuracy],index=['Accuracy Score'],\n",
        "                        columns=['KNN','Decision Tree','Support Vector Machine','Logistic Regression']).T\n",
        "accuracy_df.columns.name = 'Algorithm'\n",
        "accuracy_df"
      ],
      "execution_count": 29,
      "outputs": [
        {
          "output_type": "execute_result",
          "data": {
            "text/html": [
              "<div>\n",
              "<style scoped>\n",
              "    .dataframe tbody tr th:only-of-type {\n",
              "        vertical-align: middle;\n",
              "    }\n",
              "\n",
              "    .dataframe tbody tr th {\n",
              "        vertical-align: top;\n",
              "    }\n",
              "\n",
              "    .dataframe thead th {\n",
              "        text-align: right;\n",
              "    }\n",
              "</style>\n",
              "<table border=\"1\" class=\"dataframe\">\n",
              "  <thead>\n",
              "    <tr style=\"text-align: right;\">\n",
              "      <th>Algorithm</th>\n",
              "      <th>Accuracy Score</th>\n",
              "    </tr>\n",
              "  </thead>\n",
              "  <tbody>\n",
              "    <tr>\n",
              "      <th>KNN</th>\n",
              "      <td>70.0</td>\n",
              "    </tr>\n",
              "    <tr>\n",
              "      <th>Decision Tree</th>\n",
              "      <td>82.9</td>\n",
              "    </tr>\n",
              "    <tr>\n",
              "      <th>Support Vector Machine</th>\n",
              "      <td>82.9</td>\n",
              "    </tr>\n",
              "    <tr>\n",
              "      <th>Logistic Regression</th>\n",
              "      <td>74.3</td>\n",
              "    </tr>\n",
              "  </tbody>\n",
              "</table>\n",
              "</div>"
            ],
            "text/plain": [
              "Algorithm               Accuracy Score\n",
              "KNN                               70.0\n",
              "Decision Tree                     82.9\n",
              "Support Vector Machine            82.9\n",
              "Logistic Regression               74.3"
            ]
          },
          "metadata": {
            "tags": []
          },
          "execution_count": 29
        }
      ]
    },
    {
      "cell_type": "markdown",
      "metadata": {
        "id": "OSCAnQJzKQjK",
        "colab_type": "text"
      },
      "source": [
        "We can conclude that that algorithm **Decision Tree & Support Vector Machine** have a better accuracy"
      ]
    },
    {
      "cell_type": "markdown",
      "metadata": {
        "id": "Rgw62cOhgx7d",
        "colab_type": "text"
      },
      "source": [
        "# **Model Evaluation using Test set**"
      ]
    },
    {
      "cell_type": "code",
      "metadata": {
        "id": "89D3AhFFGsW0",
        "colab_type": "code",
        "colab": {}
      },
      "source": [
        "from sklearn.metrics import jaccard_similarity_score\n",
        "from sklearn.metrics import f1_score\n",
        "from sklearn.metrics import log_loss\n",
        "\n",
        "\n",
        "# To ignore warnings\n",
        "from warnings import filterwarnings\n",
        "filterwarnings('ignore')"
      ],
      "execution_count": 30,
      "outputs": []
    },
    {
      "cell_type": "code",
      "metadata": {
        "id": "3BKBQ1WL9pQf",
        "colab_type": "code",
        "colab": {
          "base_uri": "https://localhost:8080/",
          "height": 202
        },
        "outputId": "1b7d5687-1d3f-441f-db8b-fd7ee75274f6"
      },
      "source": [
        "!wget -O loan_test.csv https://s3-api.us-geo.objectstorage.softlayer.net/cf-courses-data/CognitiveClass/ML0101ENv3/labs/loan_test.csv"
      ],
      "execution_count": 31,
      "outputs": [
        {
          "output_type": "stream",
          "text": [
            "--2020-07-09 10:41:46--  https://s3-api.us-geo.objectstorage.softlayer.net/cf-courses-data/CognitiveClass/ML0101ENv3/labs/loan_test.csv\n",
            "Resolving s3-api.us-geo.objectstorage.softlayer.net (s3-api.us-geo.objectstorage.softlayer.net)... 67.228.254.196\n",
            "Connecting to s3-api.us-geo.objectstorage.softlayer.net (s3-api.us-geo.objectstorage.softlayer.net)|67.228.254.196|:443... connected.\n",
            "HTTP request sent, awaiting response... 200 OK\n",
            "Length: 3642 (3.6K) [text/csv]\n",
            "Saving to: ‘loan_test.csv’\n",
            "\n",
            "\rloan_test.csv         0%[                    ]       0  --.-KB/s               \rloan_test.csv       100%[===================>]   3.56K  --.-KB/s    in 0s      \n",
            "\n",
            "2020-07-09 10:41:46 (699 MB/s) - ‘loan_test.csv’ saved [3642/3642]\n",
            "\n"
          ],
          "name": "stdout"
        }
      ]
    },
    {
      "cell_type": "code",
      "metadata": {
        "id": "X8iaCwPlIfs6",
        "colab_type": "code",
        "colab": {
          "base_uri": "https://localhost:8080/",
          "height": 195
        },
        "outputId": "ffdbcaa1-9e3f-44f8-e9c0-c9cac6ae26af"
      },
      "source": [
        "test_df = pd.read_csv('loan_test.csv')\n",
        "test_df.head()"
      ],
      "execution_count": 32,
      "outputs": [
        {
          "output_type": "execute_result",
          "data": {
            "text/html": [
              "<div>\n",
              "<style scoped>\n",
              "    .dataframe tbody tr th:only-of-type {\n",
              "        vertical-align: middle;\n",
              "    }\n",
              "\n",
              "    .dataframe tbody tr th {\n",
              "        vertical-align: top;\n",
              "    }\n",
              "\n",
              "    .dataframe thead th {\n",
              "        text-align: right;\n",
              "    }\n",
              "</style>\n",
              "<table border=\"1\" class=\"dataframe\">\n",
              "  <thead>\n",
              "    <tr style=\"text-align: right;\">\n",
              "      <th></th>\n",
              "      <th>Unnamed: 0</th>\n",
              "      <th>Unnamed: 0.1</th>\n",
              "      <th>loan_status</th>\n",
              "      <th>Principal</th>\n",
              "      <th>terms</th>\n",
              "      <th>effective_date</th>\n",
              "      <th>due_date</th>\n",
              "      <th>age</th>\n",
              "      <th>education</th>\n",
              "      <th>Gender</th>\n",
              "    </tr>\n",
              "  </thead>\n",
              "  <tbody>\n",
              "    <tr>\n",
              "      <th>0</th>\n",
              "      <td>1</td>\n",
              "      <td>1</td>\n",
              "      <td>PAIDOFF</td>\n",
              "      <td>1000</td>\n",
              "      <td>30</td>\n",
              "      <td>9/8/2016</td>\n",
              "      <td>10/7/2016</td>\n",
              "      <td>50</td>\n",
              "      <td>Bechalor</td>\n",
              "      <td>female</td>\n",
              "    </tr>\n",
              "    <tr>\n",
              "      <th>1</th>\n",
              "      <td>5</td>\n",
              "      <td>5</td>\n",
              "      <td>PAIDOFF</td>\n",
              "      <td>300</td>\n",
              "      <td>7</td>\n",
              "      <td>9/9/2016</td>\n",
              "      <td>9/15/2016</td>\n",
              "      <td>35</td>\n",
              "      <td>Master or Above</td>\n",
              "      <td>male</td>\n",
              "    </tr>\n",
              "    <tr>\n",
              "      <th>2</th>\n",
              "      <td>21</td>\n",
              "      <td>21</td>\n",
              "      <td>PAIDOFF</td>\n",
              "      <td>1000</td>\n",
              "      <td>30</td>\n",
              "      <td>9/10/2016</td>\n",
              "      <td>10/9/2016</td>\n",
              "      <td>43</td>\n",
              "      <td>High School or Below</td>\n",
              "      <td>female</td>\n",
              "    </tr>\n",
              "    <tr>\n",
              "      <th>3</th>\n",
              "      <td>24</td>\n",
              "      <td>24</td>\n",
              "      <td>PAIDOFF</td>\n",
              "      <td>1000</td>\n",
              "      <td>30</td>\n",
              "      <td>9/10/2016</td>\n",
              "      <td>10/9/2016</td>\n",
              "      <td>26</td>\n",
              "      <td>college</td>\n",
              "      <td>male</td>\n",
              "    </tr>\n",
              "    <tr>\n",
              "      <th>4</th>\n",
              "      <td>35</td>\n",
              "      <td>35</td>\n",
              "      <td>PAIDOFF</td>\n",
              "      <td>800</td>\n",
              "      <td>15</td>\n",
              "      <td>9/11/2016</td>\n",
              "      <td>9/25/2016</td>\n",
              "      <td>29</td>\n",
              "      <td>Bechalor</td>\n",
              "      <td>male</td>\n",
              "    </tr>\n",
              "  </tbody>\n",
              "</table>\n",
              "</div>"
            ],
            "text/plain": [
              "   Unnamed: 0  Unnamed: 0.1 loan_status  ...  age             education  Gender\n",
              "0           1             1     PAIDOFF  ...   50              Bechalor  female\n",
              "1           5             5     PAIDOFF  ...   35       Master or Above    male\n",
              "2          21            21     PAIDOFF  ...   43  High School or Below  female\n",
              "3          24            24     PAIDOFF  ...   26               college    male\n",
              "4          35            35     PAIDOFF  ...   29              Bechalor    male\n",
              "\n",
              "[5 rows x 10 columns]"
            ]
          },
          "metadata": {
            "tags": []
          },
          "execution_count": 32
        }
      ]
    },
    {
      "cell_type": "code",
      "metadata": {
        "id": "RgCNTYIR_Gn1",
        "colab_type": "code",
        "colab": {}
      },
      "source": [
        "test_df['due_date'] = pd.to_datetime(test_df['due_date'])\n",
        "test_df['effective_date'] = pd.to_datetime(test_df['effective_date'])\n",
        "test_df['dayofweek'] = test_df['effective_date'].dt.dayofweek\n",
        "\n",
        "test_df['weekend'] = test_df['dayofweek'].apply(lambda x: 1 if (x>3)  else 0)\n",
        "\n",
        "test_df['Gender'].replace(to_replace=['male','female'], value=[0,1],inplace=True)\n",
        "\n",
        "test_feature = test_df[['Principal','terms','age','Gender','weekend']]\n",
        "test_feature = pd.concat([test_feature,pd.get_dummies(test_df['education'])], axis=1)\n",
        "test_feature.drop(['Master or Above'], axis = 1,inplace=True)\n",
        "\n",
        "# Testing feature\n",
        "X_loan_test = test_feature\n",
        "\n",
        "# Normalizing Test Data\n",
        "from sklearn import preprocessing\n",
        "X_loan_test = preprocessing.StandardScaler().fit(X_loan_test).transform(X_loan_test)\n",
        "\n",
        "# Target result\n",
        "y_loan_test = test_df['loan_status'].values"
      ],
      "execution_count": 33,
      "outputs": []
    },
    {
      "cell_type": "code",
      "metadata": {
        "id": "pYyRM5D-_Gk6",
        "colab_type": "code",
        "colab": {
          "base_uri": "https://localhost:8080/",
          "height": 235
        },
        "outputId": "69c694a0-d8d4-453d-bab4-e773a7d2cac0"
      },
      "source": [
        "print (X_loan_test[0:5])\n",
        "print (X_loan_test.shape)\n",
        "\n",
        "print (y_loan_test[0:5])\n",
        "print (y_loan_test.shape)"
      ],
      "execution_count": 34,
      "outputs": [
        {
          "output_type": "stream",
          "text": [
            "[[ 0.49362588  0.92844966  3.05981865  1.97714211 -1.30384048  2.39791576\n",
            "  -0.79772404 -0.86135677]\n",
            " [-3.56269116 -1.70427745  0.53336288 -0.50578054  0.76696499 -0.41702883\n",
            "  -0.79772404 -0.86135677]\n",
            " [ 0.49362588  0.92844966  1.88080596  1.97714211  0.76696499 -0.41702883\n",
            "   1.25356634 -0.86135677]\n",
            " [ 0.49362588  0.92844966 -0.98251057 -0.50578054  0.76696499 -0.41702883\n",
            "  -0.79772404  1.16095912]\n",
            " [-0.66532184 -0.78854628 -0.47721942 -0.50578054  0.76696499  2.39791576\n",
            "  -0.79772404 -0.86135677]]\n",
            "(54, 8)\n",
            "['PAIDOFF' 'PAIDOFF' 'PAIDOFF' 'PAIDOFF' 'PAIDOFF']\n",
            "(54,)\n"
          ],
          "name": "stdout"
        }
      ]
    },
    {
      "cell_type": "code",
      "metadata": {
        "id": "Pv4cyTz1_GiJ",
        "colab_type": "code",
        "colab": {
          "base_uri": "https://localhost:8080/",
          "height": 34
        },
        "outputId": "09242445-dfaf-4670-b8b9-4acfe0bdb9f1"
      },
      "source": [
        "# Jaccard\n",
        "from sklearn.metrics import jaccard_similarity_score\n",
        "\n",
        "# KNN\n",
        "knn_yhat = knn_model.predict(X_loan_test)\n",
        "jss1 = round(jaccard_similarity_score(y_loan_test, knn_yhat), 2)\n",
        "\n",
        "# Decision Tree\n",
        "dt_yhat = dt.predict(X_loan_test)\n",
        "jss2 = round(jaccard_similarity_score(y_loan_test, dt_yhat), 2)\n",
        "\n",
        "# Support Vector Machine\n",
        "svc_yhat = svc_model.predict(X_loan_test)\n",
        "jss3 = round(jaccard_similarity_score(y_loan_test, svc_yhat), 2)\n",
        "\n",
        "# Logistic Regression\n",
        "lr_yhat = lr_model.predict(X_loan_test)\n",
        "jss4 = round(jaccard_similarity_score(y_loan_test, lr_yhat), 2)\n",
        "\n",
        "jss_list = [jss1, jss2, jss3, jss4]\n",
        "jss_list"
      ],
      "execution_count": 35,
      "outputs": [
        {
          "output_type": "execute_result",
          "data": {
            "text/plain": [
              "[0.72, 0.74, 0.74, 0.78]"
            ]
          },
          "metadata": {
            "tags": []
          },
          "execution_count": 35
        }
      ]
    },
    {
      "cell_type": "code",
      "metadata": {
        "id": "k6wzJ9l__GeK",
        "colab_type": "code",
        "colab": {
          "base_uri": "https://localhost:8080/",
          "height": 34
        },
        "outputId": "98be25d6-b02d-45c9-ed51-376f8a5ac87b"
      },
      "source": [
        "# F1_score\n",
        "from sklearn.metrics import f1_score\n",
        "\n",
        "# KNN\n",
        "knn_yhat = knn_model.predict(X_loan_test)\n",
        "f1 = round(f1_score(y_loan_test, knn_yhat, average = 'weighted'), 2)\n",
        "\n",
        "# Decision Tree\n",
        "dt_yhat = dt.predict(X_loan_test)\n",
        "f2 = round(f1_score(y_loan_test, dt_yhat, average = 'weighted'), 2)\n",
        "\n",
        "# Support Vector Machine\n",
        "svc_yhat = svc_model.predict(X_loan_test)\n",
        "f3 = round(f1_score(y_loan_test, svc_yhat, average = 'weighted'), 2)\n",
        "\n",
        "# Logistic Regression\n",
        "lr_yhat = lr_model.predict(X_loan_test)\n",
        "f4 = round(f1_score(y_loan_test, lr_yhat, average = 'weighted'), 2)\n",
        "\n",
        "f1_list = [f1, f2, f3, f4]\n",
        "f1_list"
      ],
      "execution_count": 36,
      "outputs": [
        {
          "output_type": "execute_result",
          "data": {
            "text/plain": [
              "[0.72, 0.63, 0.63, 0.76]"
            ]
          },
          "metadata": {
            "tags": []
          },
          "execution_count": 36
        }
      ]
    },
    {
      "cell_type": "code",
      "metadata": {
        "id": "0ZjFXU6w_GbV",
        "colab_type": "code",
        "colab": {
          "base_uri": "https://localhost:8080/",
          "height": 34
        },
        "outputId": "0cdfec2e-6309-46a7-bee0-f8029093ca97"
      },
      "source": [
        "# log loss\n",
        "from sklearn.metrics import log_loss\n",
        "\n",
        "# Logistic Regression\n",
        "lr_prob = lr_model.predict_proba(X_loan_test)\n",
        "ll_list = ['NA','NA','NA', round(log_loss(y_loan_test, lr_prob), 2)]\n",
        "ll_list"
      ],
      "execution_count": 37,
      "outputs": [
        {
          "output_type": "execute_result",
          "data": {
            "text/plain": [
              "['NA', 'NA', 'NA', 0.67]"
            ]
          },
          "metadata": {
            "tags": []
          },
          "execution_count": 37
        }
      ]
    },
    {
      "cell_type": "code",
      "metadata": {
        "id": "Ak_J3-Ua_GYY",
        "colab_type": "code",
        "colab": {
          "base_uri": "https://localhost:8080/",
          "height": 166
        },
        "outputId": "064946d7-8271-4fc5-cd2b-5c3a6c1813e1"
      },
      "source": [
        "columns = ['KNN', 'Decision Tree', 'SVM', 'Logistic Regression']\n",
        "index = ['Jaccard', 'F1-score', 'Logloss']\n",
        "\n",
        "accuracy_df = pd.DataFrame([jss_list, f1_list, ll_list], index = index, columns = columns)\n",
        "\n",
        "accuracy_df1 = accuracy_df.transpose()\n",
        "accuracy_df1.columns.name = 'Algorithm'\n",
        "accuracy_df1"
      ],
      "execution_count": 38,
      "outputs": [
        {
          "output_type": "execute_result",
          "data": {
            "text/html": [
              "<div>\n",
              "<style scoped>\n",
              "    .dataframe tbody tr th:only-of-type {\n",
              "        vertical-align: middle;\n",
              "    }\n",
              "\n",
              "    .dataframe tbody tr th {\n",
              "        vertical-align: top;\n",
              "    }\n",
              "\n",
              "    .dataframe thead th {\n",
              "        text-align: right;\n",
              "    }\n",
              "</style>\n",
              "<table border=\"1\" class=\"dataframe\">\n",
              "  <thead>\n",
              "    <tr style=\"text-align: right;\">\n",
              "      <th>Algorithm</th>\n",
              "      <th>Jaccard</th>\n",
              "      <th>F1-score</th>\n",
              "      <th>Logloss</th>\n",
              "    </tr>\n",
              "  </thead>\n",
              "  <tbody>\n",
              "    <tr>\n",
              "      <th>KNN</th>\n",
              "      <td>0.72</td>\n",
              "      <td>0.72</td>\n",
              "      <td>NA</td>\n",
              "    </tr>\n",
              "    <tr>\n",
              "      <th>Decision Tree</th>\n",
              "      <td>0.74</td>\n",
              "      <td>0.63</td>\n",
              "      <td>NA</td>\n",
              "    </tr>\n",
              "    <tr>\n",
              "      <th>SVM</th>\n",
              "      <td>0.74</td>\n",
              "      <td>0.63</td>\n",
              "      <td>NA</td>\n",
              "    </tr>\n",
              "    <tr>\n",
              "      <th>Logistic Regression</th>\n",
              "      <td>0.78</td>\n",
              "      <td>0.76</td>\n",
              "      <td>0.67</td>\n",
              "    </tr>\n",
              "  </tbody>\n",
              "</table>\n",
              "</div>"
            ],
            "text/plain": [
              "Algorithm           Jaccard F1-score Logloss\n",
              "KNN                    0.72     0.72      NA\n",
              "Decision Tree          0.74     0.63      NA\n",
              "SVM                    0.74     0.63      NA\n",
              "Logistic Regression    0.78     0.76    0.67"
            ]
          },
          "metadata": {
            "tags": []
          },
          "execution_count": 38
        }
      ]
    }
  ]
}